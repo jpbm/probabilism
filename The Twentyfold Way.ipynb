{
 "cells": [
  {
   "cell_type": "markdown",
   "metadata": {},
   "source": [
    "# The Twentyfold Way\n",
    "\n",
    "*When we are passing out objects to recipients, we may think of the objects as being either identical or distinct. We may also think of the recipients as being either identical (as in the case of putting fruit into plastic bags in the grocery store) or distinct (as in the case of passing fruit out to children). We may restrict the distributions to those that give at least one object to each recipient, or those that give exactly one object to each recipient, or those that give at most one object to each recipient, or we may have no such restrictions. If the objects are distinct, it may be that the order in which the objects are received is relevant (think about putting books onto the shelves in a bookcase) or that the order in which the objects are received is irrelevant (think about dropping a handful of candy into a child’s trick or treat bag). If we ignore the possibility that the order in which objects are received matters, we have created 2 · 2 · 4 = 16 distribution problems. In the cases where a recipient can receive more than one distinct object, we also have four more problems when the order objects are received matters. Thus we have 20 possible distribution problems.*   - Bogart, \"Combinatorics Though Guided Discovery\", Chapter 3.\n",
    "\n",
    "In \"Combinatorics Through Guided Discovery\" (http://bogart.openmathbooks.org/pdf/ctgd.pdf), Kenneth Bogart develops a taxonomy of distribution problems.  (In the notebook ``Combinatorics``, I tried to do something similar.) \n",
    "\n",
    "\n",
    "## Reproduced without Permission:\n",
    "<img src=\"img/twentyfoldway.png\" style=\"width: 600px\">"
   ]
  }
 ],
 "metadata": {
  "kernelspec": {
   "display_name": "Python 3",
   "language": "python",
   "name": "python3"
  },
  "language_info": {
   "codemirror_mode": {
    "name": "ipython",
    "version": 3
   },
   "file_extension": ".py",
   "mimetype": "text/x-python",
   "name": "python",
   "nbconvert_exporter": "python",
   "pygments_lexer": "ipython3",
   "version": "3.7.7"
  }
 },
 "nbformat": 4,
 "nbformat_minor": 4
}
