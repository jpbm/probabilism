{
 "cells": [
  {
   "cell_type": "markdown",
   "metadata": {},
   "source": [
    "# Quicksort Algorithm"
   ]
  },
  {
   "cell_type": "code",
   "execution_count": 2,
   "metadata": {},
   "outputs": [
    {
     "data": {
      "image/png": "[encoded data removed]",
      "text/plain": [
       "<Figure size 864x576 with 1 Axes>"
      ]
     },
     "metadata": {
      "needs_background": "light"
     },
     "output_type": "display_data"
    }
   ],
   "source": [
    "import numpy as np\n",
    "import matplotlib.pyplot as plt\n",
    "\n",
    "def get_array(n):\n",
    "    \"\"\"\n",
    "    Get a shuffled array of integers (without duplicates)\n",
    "    \"\"\"\n",
    "    return np.random.permutation(list(range(n)))\n",
    "\n",
    "\n",
    "\n",
    "def quicksort(x):\n",
    "    \"\"\"\n",
    "    Returns sorted array and the number of comparisons made in sorting the array.\n",
    "    \"\"\"\n",
    "    \n",
    "    l = len(x)\n",
    "    n = 0\n",
    "    \n",
    "    if l == 0 or l == 1: # no sorting needed\n",
    "        return n,x\n",
    "    \n",
    "    else:\n",
    "        pivot = np.random.choice(x) # randomly choose pivot from array\n",
    "        H = []\n",
    "        L = []\n",
    "        for i in range(len(x)): # assign elements to H or L array depending on size relative to pivot\n",
    "            n+=1\n",
    "            if x[i] > pivot:\n",
    "                H+=[x[i]]\n",
    "            else:\n",
    "                L+=[x[i]]\n",
    "        \n",
    "        n_l, L = quicksort(L)\n",
    "        n_h, H = quicksort(H)\n",
    "        \n",
    "        n = n+n_l+n_h\n",
    "        \n",
    "        return n,L+H\n",
    "    \n",
    "\n",
    "# simulation\n",
    "n_trials = 10000\n",
    "array_length = 10\n",
    "\n",
    "n_comparisons = []\n",
    "for i in range(n_trials):\n",
    "    \n",
    "    x = get_array(array_length)\n",
    "    n,_ = quicksort(x)\n",
    "    \n",
    "    n_comparisons+=[n]\n",
    "    \n",
    "    \n",
    "plt.figure(figsize=(12,8))\n",
    "_ = plt.hist(n_comparisons,bins = list(range(array_length**2)),density=True)"
   ]
  }
 ],
 "metadata": {
  "kernelspec": {
   "display_name": "Python 3",
   "language": "python",
   "name": "python3"
  },
  "language_info": {
   "codemirror_mode": {
    "name": "ipython",
    "version": 3
   },
   "file_extension": ".py",
   "mimetype": "text/x-python",
   "name": "python",
   "nbconvert_exporter": "python",
   "pygments_lexer": "ipython3",
   "version": "3.7.7"
  }
 },
 "nbformat": 4,
 "nbformat_minor": 4
}
