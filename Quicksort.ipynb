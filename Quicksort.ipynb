{
 "cells": [
  {
   "cell_type": "markdown",
   "metadata": {},
   "source": [
    "# Quicksort Algorithm\n",
    "\n",
    "Distribution of the number of comparisons necessary to sort an array using the quicksort algorithm. Inspired by the materials belonging to: \n",
    "https://mast.queensu.ca/~stat455/.\n",
    "\n",
    "The algorithm works by recursively dividing the array into sub-arrays of elements that are larger or smaller than a randomly chosen entry (the \"pivot\").\n",
    "\n",
    "\n",
    "```\n",
    "def quicksort(x):\n",
    "    l = len(x)\n",
    "    \n",
    "    if l == 0 or l == 1:\n",
    "        return x  # no sorting needed\n",
    "    else:\n",
    "        pivot = pop(x) # choose & remove pivot\n",
    "        H = []\n",
    "        L = []\n",
    "        for i in x:\n",
    "            if i < pivot:\n",
    "                L+=[i]\n",
    "            else:\n",
    "                H+=[i]\n",
    "        \n",
    "        H = quicksort(H) # recursion\n",
    "        L = quicksort(L)\n",
    "        \n",
    "        return L+H\n",
    "```\n",
    "\n",
    "The code shown below has some extra lines to keep track of the number of \"i<pivot\" comparisons made. \n",
    "\n",
    "\n",
    "### Expected Number of Comparisons\n",
    "\n",
    "Because the pivot is randomly chosen, the amount of comparisons $X_n$ needed to sort an array of length $n$ is a random variable. \n",
    "\n",
    "For arrays of length $n\\in\\{0,1,2\\}$, the answer can be guessed:\n",
    "\n",
    "\\begin{equation}\n",
    "\\begin{array}{l}\n",
    "\\mathbb{E}[X_0] = 0\\\\\n",
    "\\mathbb{E}[X_1] = 0\\\\\n",
    "\\mathbb{E}[X_2] = 1\\\\\n",
    "\\end{array}\n",
    "\\end{equation}\n",
    "\n",
    "For the general case, $\\mathbb{E}[E_n]$, it is natural to condition on the *rank* of the pivot, $Y$. *Rank* meaning the size of the pivot relative to the other numbers in the array. $Y=1$ would mean that the pivot is the smallest number, $Y=5$ would mean the 5th smallest number etc.\n",
    "\n",
    "\\begin{equation}\n",
    "\\mathbb{E}[X_n] = \\mathbb{E}[\\mathbb{E}[X_n|Y=j]] = \\sum_{j=1}^n \\mathbb{E}[X_n|Y=j] \\left(\\frac{1}{n}\\right)\n",
    "\\end{equation}\n",
    "\n",
    "Where I made use of the fact that $p(Y=j) = \\frac{1}{n}$. For a given choice of $Y=j$, the algorithm makes $n-1$ comparisons. It then calls quicksort again on two arrays of length $j-1$ and $n-j$ (the pivot was removed, so the two parts add up to a length of $n-1$). Hence the expectation for then number of comparison operations, conditioned on $j$, is:\n",
    "\n",
    "\\begin{equation}\n",
    "\\mathbb{E}[X_n|Y=j] = n-1 + \\mathbb{E}[X_{j-1}] + \\mathbb{E}[X_{n-j}] \n",
    "\\end{equation}\n",
    "\n",
    "Taking the expectation with respect to the pivot:\n",
    "\n",
    "\\begin{equation}\n",
    "\\begin{array}{rl}\n",
    "\\mathbb{E}[X_n] &= \\frac{1}{n}\\sum_{j=1}^n \\left(n-1 + \\mathbb{E}[X_{j-1}] + \\mathbb{E}[X_{n-j}]\\right)\\\\\n",
    "&= \\frac{1}{n}\\left[\\underbrace{\\sum_{j=1}^n (n-1)}_{n(n-1)} + 2\\sum_{j=1}^{n-1}\\mathbb{E}[X_j] \\right]\\\\\n",
    "\\mathbb{E}[X_n]n - n(n-1)&= 2\\sum_{j=1}^{n-1} \\mathbb{E}[X_j]\n",
    "\\end{array}\n",
    "\\end{equation}\n",
    "\n",
    "It's nicer to have an expression that depends on the previous term only, so the usual trick is applied:\n",
    "\\begin{equation}\n",
    "\\begin{array}{rl}\n",
    "\\mathbb{E}[X_{n+1}] (n+1) - \\mathbb{E}[X_{n}] n &= n(n+1) - n(n-1) + 2\\mathbb{E}[X_{n}] \\\\\n",
    "\\mathbb{E}[X_{n+1}]&= \\frac{1}{n+1} \\left[ 2n + \\mathbb{E}[X_{n}] (n+2) \\right]\n",
    "\\end{array}\n",
    "\\end{equation}\n",
    "\n",
    "It's possible to calculate an expression that does not rely on recursion, but I will leave it at this!"
   ]
  },
  {
   "cell_type": "code",
   "execution_count": 1,
   "metadata": {},
   "outputs": [
    {
     "data": {
      "text/plain": [
       "Text(0.5, 1.0, 'Quicksort - Number of Comparisons (array size: 10)')"
      ]
     },
     "execution_count": 1,
     "metadata": {},
     "output_type": "execute_result"
    },
    {
     "data": {
      "image/png": "[encoded data removed]",
      "text/plain": [
       "<Figure size 864x576 with 1 Axes>"
      ]
     },
     "metadata": {
      "needs_background": "light"
     },
     "output_type": "display_data"
    }
   ],
   "source": [
    "import numpy as np\n",
    "import matplotlib.pyplot as plt\n",
    "\n",
    "def get_array(n):\n",
    "    \"\"\"\n",
    "    Get a shuffled array of integers (without duplicates)\n",
    "    \"\"\"\n",
    "    return list(np.random.permutation(list(range(n))))\n",
    "\n",
    "\n",
    "\n",
    "def quicksort(x):\n",
    "    \"\"\"\n",
    "    Returns sorted array and the number of comparisons made in sorting the array.\n",
    "    \"\"\"\n",
    "    \n",
    "    l = len(x)\n",
    "    n = 0\n",
    "    \n",
    "    if l == 0 or l == 1: # no sorting needed\n",
    "        return n,x\n",
    "    \n",
    "    else:\n",
    "        pivot = x.pop() # randomly choose a pivot from array\n",
    "        H = []\n",
    "        L = []\n",
    "        for i in x: # assign elements to H(igher) or L(ower) array depending on size relative to pivot\n",
    "            n+=1\n",
    "            if i > pivot:\n",
    "                H+=[i]\n",
    "            else:\n",
    "                L+=[i]\n",
    "        \n",
    "        n_l, L = quicksort(L) # recursively call quicksort on H and L arrays.s\n",
    "        n_h, H = quicksort(H)\n",
    "        \n",
    "        n = n+n_l+n_h\n",
    "        \n",
    "        return n,L+H\n",
    "    \n",
    "\n",
    "# simulation\n",
    "n_trials = 10000\n",
    "array_length = 10\n",
    "\n",
    "n_comparisons = []\n",
    "for i in range(n_trials):\n",
    "    \n",
    "    x = get_array(array_length)\n",
    "    n,_ = quicksort(x)\n",
    "    \n",
    "    n_comparisons+=[n]\n",
    "    \n",
    "    \n",
    "plt.figure(figsize=(12,8))\n",
    "_ = plt.hist(n_comparisons,bins = list(range(array_length**2)),density=True)\n",
    "plt.title('Quicksort - Number of Comparisons (array size: %i)' % array_length)"
   ]
  },
  {
   "cell_type": "code",
   "execution_count": 2,
   "metadata": {},
   "outputs": [],
   "source": [
    "def M_n(n):\n",
    "    \"\"\"\n",
    "    Expected number of comparisons necessary for an array of length n\n",
    "    \"\"\"\n",
    "    if n == 0 or n == 1:\n",
    "        return 0\n",
    "    \n",
    "    else:\n",
    "        M_n = 1\n",
    "        for i in range(2,n):\n",
    "            M_n = (1/(i+1))*(2*i+M_n*(i+2))\n",
    "            \n",
    "        return M_n\n",
    "    \n",
    "\n",
    "def M_n_simulated(array_length,n_trials=2000):\n",
    "    \"\"\"\n",
    "    simulate expected number of comparisons\n",
    "    \"\"\"\n",
    "    n_comparisons = []\n",
    "    for i in range(n_trials):\n",
    "\n",
    "        x = get_array(array_length)\n",
    "        n_,_ = quicksort(x)\n",
    "\n",
    "        n_comparisons+=[n_]\n",
    "        \n",
    "    return np.mean(n_comparisons)"
   ]
  },
  {
   "cell_type": "code",
   "execution_count": 3,
   "metadata": {},
   "outputs": [
    {
     "data": {
      "text/plain": [
       "Text(0, 0.5, 'expected comparisons')"
      ]
     },
     "execution_count": 3,
     "metadata": {},
     "output_type": "execute_result"
    },
    {
     "data": {
      "image/png": "[encoded data removed]",
      "text/plain": [
       "<Figure size 864x576 with 1 Axes>"
      ]
     },
     "metadata": {
      "needs_background": "light"
     },
     "output_type": "display_data"
    }
   ],
   "source": [
    "nn = list(range(10))\n",
    "\n",
    "analytical = [M_n(n) for n in nn]\n",
    "simulated = [M_n_simulated(n,n_trials=5000) for n in nn]\n",
    "\n",
    "plt.figure(figsize=(12,8))\n",
    "plt.plot(nn,analytical,'-',linewidth=2)\n",
    "plt.plot(nn,simulated,'o',markersize=10)\n",
    "plt.legend(['analytical','simulated'])\n",
    "\n",
    "_ = plt.title('Quicksort: Expected number of Comparisons')\n",
    "plt.xlabel('array length',fontsize=15)\n",
    "plt.ylabel('expected comparisons',fontsize=15)"
   ]
  }
 ],
 "metadata": {
  "kernelspec": {
   "display_name": "Python 3",
   "language": "python",
   "name": "python3"
  },
  "language_info": {
   "codemirror_mode": {
    "name": "ipython",
    "version": 3
   },
   "file_extension": ".py",
   "mimetype": "text/x-python",
   "name": "python",
   "nbconvert_exporter": "python",
   "pygments_lexer": "ipython3",
   "version": "3.7.7"
  }
 },
 "nbformat": 4,
 "nbformat_minor": 4
}
