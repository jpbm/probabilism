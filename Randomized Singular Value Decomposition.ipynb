{
 "cells": [
  {
   "cell_type": "code",
   "execution_count": 1,
   "metadata": {},
   "outputs": [],
   "source": [
    "import matplotlib.pyplot as plt\n",
    "import numpy as np\n",
    "import imageio\n",
    "\n",
    "plt.rcParams['ytick.left']=True\n",
    "plt.rcParams['xtick.bottom']=True\n",
    "plt.rcParams['axes.spines.top'] = False\n",
    "plt.rcParams['axes.spines.bottom'] = True\n",
    "plt.rcParams['axes.spines.left'] = True\n",
    "plt.rcParams['axes.spines.right'] = False\n",
    "\n",
    "\n",
    "from time import time\n",
    "\n",
    "def timer(func):\n",
    "    def wrapperfunc(*args):\n",
    "        t0 = time()\n",
    "        res = func(*args)\n",
    "        print(\"%s took %1.3f seconds.\" % (func.__doc__,time()-t0))\n",
    "        return res\n",
    "    \n",
    "    return wrapperfunc\n",
    "    \n",
    "    \n",
    "\"\"\"\n",
    "Code from Steve Bunton \n",
    "\"\"\"\n",
    "\n",
    "# Define randomized SVD function\n",
    "@timer\n",
    "def rSVD(X,r,q,p):\n",
    "    \"\"\"randomized svd\"\"\"\n",
    "    # Step 1: Sample column space of X with P matrix\n",
    "    ny = X.shape[1]\n",
    "    P = np.random.randn(ny,r+p)\n",
    "    Z = X @ P\n",
    "    for k in range(q):\n",
    "        Z = X @ (X.T @ Z)\n",
    "\n",
    "    Q, R = np.linalg.qr(Z,mode='reduced')\n",
    "\n",
    "    # Step 2: Compute SVD on projected Y = Q.T @ X\n",
    "    Y = Q.T @ X\n",
    "    UY, S, VT = np.linalg.svd(Y,full_matrices=False)\n",
    "    U = Q @ UY\n",
    "\n",
    "    return U, S, VT\n",
    "\n",
    "@timer\n",
    "def SVD(X,r):\n",
    "    \"\"\"svd\"\"\"\n",
    "    U,S,Vh = np.linalg.svd(X,full_matrices=False)\n",
    "    return U[:,:r], S[:r], Vh[:r]"
   ]
  },
  {
   "cell_type": "code",
   "execution_count": 2,
   "metadata": {},
   "outputs": [
    {
     "name": "stdout",
     "output_type": "stream",
     "text": [
      "randomized svd took 0.800 seconds.\n",
      "svd took 0.710 seconds.\n"
     ]
    },
    {
     "data": {
      "text/plain": [
       "[<matplotlib.lines.Line2D at 0x10cdc8750>]"
      ]
     },
     "execution_count": 2,
     "metadata": {},
     "output_type": "execute_result"
    },
    {
     "data": {
      "image/png": "[encoded data removed]",
      "text/plain": [
       "<Figure size 576x360 with 1 Axes>"
      ]
     },
     "metadata": {
      "needs_background": "light"
     },
     "output_type": "display_data"
    }
   ],
   "source": [
    "im = imageio.imread('img/IMG_1179.JPG')[:,:,0]\n",
    "\n",
    "Ur,Sr,Vr = rSVD(im,1000,1,1)\n",
    "U,S,V = SVD(im,1000)\n",
    "\n",
    "\n",
    "plt.figure(figsize=(8,5))\n",
    "plt.plot(np.log(S))\n",
    "plt.plot(np.log(Sr))"
   ]
  },
  {
   "cell_type": "code",
   "execution_count": null,
   "metadata": {},
   "outputs": [],
   "source": []
  }
 ],
 "metadata": {
  "kernelspec": {
   "display_name": "Python 3",
   "language": "python",
   "name": "python3"
  },
  "language_info": {
   "codemirror_mode": {
    "name": "ipython",
    "version": 3
   },
   "file_extension": ".py",
   "mimetype": "text/x-python",
   "name": "python",
   "nbconvert_exporter": "python",
   "pygments_lexer": "ipython3",
   "version": "3.7.7"
  }
 },
 "nbformat": 4,
 "nbformat_minor": 4
}
