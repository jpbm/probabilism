{
 "cells": [
  {
   "cell_type": "code",
   "execution_count": 1,
   "metadata": {},
   "outputs": [],
   "source": [
    "import matplotlib.pyplot as plt\n",
    "import numpy as np\n",
    "import imageio\n",
    "\n",
    "plt.rcParams['ytick.left']=True\n",
    "plt.rcParams['xtick.bottom']=True\n",
    "plt.rcParams['axes.spines.top'] = False\n",
    "plt.rcParams['axes.spines.bottom'] = True\n",
    "plt.rcParams['axes.spines.left'] = True\n",
    "plt.rcParams['axes.spines.right'] = False\n",
    "\n",
    "\n",
    "from time import time\n",
    "\n",
    "def timer(func):\n",
    "    def wrapperfunc(*args):\n",
    "        t0 = time()\n",
    "        res = func(*args)\n",
    "        print(\"%s took %1.3f seconds.\" % (func.__doc__,time()-t0))\n",
    "        return res\n",
    "    \n",
    "    return wrapperfunc\n",
    "    \n",
    "    \n",
    "\"\"\"\n",
    "Code from Steve Bunton \n",
    "\"\"\"\n",
    "\n",
    "# Define randomized SVD function\n",
    "#@timer\n",
    "def rSVD(X,r,q,p):\n",
    "    \"\"\"randomized svd\"\"\"\n",
    "    # Step 1: Sample column space of X with P matrix\n",
    "    ny = X.shape[1]\n",
    "    P = np.random.randn(ny,r+p)\n",
    "    Z = X @ P\n",
    "    for k in range(q):\n",
    "        Z = X @ (X.T @ Z)\n",
    "\n",
    "    Q, R = np.linalg.qr(Z,mode='reduced')\n",
    "\n",
    "    # Step 2: Compute SVD on projected Y = Q.T @ X\n",
    "    Y = Q.T @ X\n",
    "    UY, S, VT = np.linalg.svd(Y,full_matrices=False)\n",
    "    U = Q @ UY\n",
    "\n",
    "    return U, S, VT\n",
    "\n",
    "#@timer\n",
    "def SVD(X):\n",
    "    \"\"\"svd\"\"\"\n",
    "    return np.linalg.svd(X,full_matrices=False)"
   ]
  },
  {
   "cell_type": "code",
   "execution_count": 2,
   "metadata": {},
   "outputs": [
    {
     "data": {
      "text/plain": [
       "[<matplotlib.lines.Line2D at 0x119d95910>]"
      ]
     },
     "execution_count": 2,
     "metadata": {},
     "output_type": "execute_result"
    },
    {
     "data": {
      "image/png": "[encoded data removed]",
      "text/plain": [
       "<Figure size 576x360 with 1 Axes>"
      ]
     },
     "metadata": {
      "needs_background": "light"
     },
     "output_type": "display_data"
    }
   ],
   "source": [
    "im = imageio.imread('img/IMG_1179.JPG')[:,:,0]\n",
    "\n",
    "r = 100\n",
    "Ur,Sr,Vr = rSVD(im,r,1,1)\n",
    "U,S,V = SVD(im)\n",
    "S = S[:r]\n",
    "\n",
    "plt.figure(figsize=(8,5))\n",
    "plt.plot(np.log(S))\n",
    "plt.plot(np.log(Sr))"
   ]
  },
  {
   "cell_type": "code",
   "execution_count": null,
   "metadata": {},
   "outputs": [
    {
     "name": "stdout",
     "output_type": "stream",
     "text": [
      "0 / 20 (41.78s)\n",
      "1 / 20 (36.63s)\n",
      "2 / 20 (36.39s)\n",
      "3 / 20 (36.03s)\n",
      "4 / 20 (35.86s)\n",
      "5 / 20 (35.82s)\n",
      "6 / 20 (38.31s)\n",
      "7 / 20 (38.99s)\n",
      "8 / 20 (39.78s)\n",
      "9 / 20 (44.69s)\n",
      "10 / 20 (39.93s)\n"
     ]
    }
   ],
   "source": [
    "def AMSE(A,B):\n",
    "    \n",
    "    return np.mean((A-B)**2)\n",
    "\n",
    "\n",
    "R = np.logspace(0,np.log10(1277),50)\n",
    "Q = [0,1,3,5]\n",
    "\n",
    "\n",
    "# regular svd\n",
    "t0 = time()\n",
    "U,S,Vh = SVD(im)\n",
    "tsvd = time()-t0\n",
    "tsvd = np.ones_like(R)*tsvd\n",
    "\n",
    "\n",
    "# randomized svd\n",
    "n_trials = 20\n",
    "\n",
    "amse_av = {}\n",
    "trsvd_av = {}\n",
    "for q in Q:\n",
    "    amse_av[q] = np.zeros_like(R)\n",
    "    trsvd_av[q] = np.zeros_like(R)\n",
    "\n",
    "\n",
    "for n in range(n_trials): \n",
    "    t_trial = time()\n",
    "    \n",
    "    # run for all r,q\n",
    "    trsvd = {}\n",
    "    amse = {}\n",
    "    for q in Q:\n",
    "        trsvd[q] = [] \n",
    "        amse[q] = []\n",
    "        for r in R:\n",
    "            r = int(r)\n",
    "\n",
    "            t0 = time()\n",
    "            Ur,Sr,Vr = rSVD(im,r,q,0)\n",
    "            trsvd[q] += [time()-t0]\n",
    "\n",
    "            Xref = U[:,:r] @ np.diag(S[:r]) @ Vh[:r]\n",
    "            Xrand = Ur @ np.diag(Sr) @ Vr\n",
    "            amse[q] += [AMSE(Xref,Xrand)]\n",
    "            \n",
    "    # gather trials\n",
    "    for q in Q:\n",
    "        amse_av[q] = np.vstack([amse_av[q],amse[q]])\n",
    "        trsvd_av[q] = np.vstack([trsvd_av[q],trsvd[q]])\n",
    "        \n",
    "    print(n,'/',n_trials,'(%1.2fs)' % (time()-t_trial))\n",
    "\n",
    "\n",
    "# average & std\n",
    "amse_std = {}\n",
    "trsvd_std = {}\n",
    "for q in Q:\n",
    "    amse_std[q] = np.std(amse_av[q],axis=0)\n",
    "    amse_av[q] = np.mean(amse_av[q],axis=0)\n",
    "    \n",
    "    trsvd_std[q] = np.std(trsvd_av[q],axis=0)\n",
    "    trsvd_av[q] = np.mean(trsvd_av[q],axis=0)\n",
    "    "
   ]
  },
  {
   "cell_type": "code",
   "execution_count": null,
   "metadata": {},
   "outputs": [],
   "source": [
    "plt.rcParams.update({'xtick.labelsize': 'large'})\n",
    "plt.rcParams.update({'ytick.labelsize': 'large'})\n",
    "\n",
    "fig, ax = plt.subplots(1,2,figsize=(12,5))\n",
    "\n",
    "ax[0].plot(R,tsvd,'black')\n",
    "for q in Q:\n",
    "    ax[0].loglog(R,trsvd_av[q])\n",
    "    ax[0].set_ylabel('time [s]',fontsize=12)\n",
    "    ax[0].set_xlabel('r',fontsize=12)\n",
    "    \n",
    "    ax[1].loglog(R,amse_av[q])\n",
    "    ax[1].set_ylim([10**(-6),10**4])\n",
    "    ax[1].set_xlabel('r',fontsize=12)\n",
    "    ax[1].set_ylabel('AMSE')\n",
    "    \n",
    "    ax[0].legend(['SVD'] + ['rSVD q=%i' % q for q in Q])  \n",
    "    ax[1].legend(['AMSE rSVD q=%i' % q for q in Q])  \n",
    "    \n",
    "    \n",
    "plt.savefig('img/randomized_svd.png')"
   ]
  },
  {
   "cell_type": "code",
   "execution_count": null,
   "metadata": {
    "scrolled": false
   },
   "outputs": [],
   "source": [
    "fig, ax = plt.subplots(1,2,figsize=(12,5))\n",
    "\n",
    "ax[0].plot(R,tsvd)\n",
    "for q in Q:\n",
    "    ax[0].semilogy(R,trsvd_std[q])\n",
    "    ax[0].set_ylabel('s',fontsize=12)\n",
    "    ax[0].set_xlabel('r',fontsize=12)\n",
    "    \n",
    "    ax[1].semilogy(R,amse_std[q])\n",
    "    ax[1].set_ylim([10**(-6),10**4])\n",
    "    ax[1].set_xlabel('r',fontsize=12)\n",
    "    \n",
    "    ax[0].legend(['SVD'] + ['std rSVD q=%i' % q for q in Q])  \n",
    "    ax[1].legend(['std AMSE rSVD q=%i' % q for q in Q])  \n",
    "    "
   ]
  }
 ],
 "metadata": {
  "kernelspec": {
   "display_name": "Python 3",
   "language": "python",
   "name": "python3"
  },
  "language_info": {
   "codemirror_mode": {
    "name": "ipython",
    "version": 3
   },
   "file_extension": ".py",
   "mimetype": "text/x-python",
   "name": "python",
   "nbconvert_exporter": "python",
   "pygments_lexer": "ipython3",
   "version": "3.7.7"
  }
 },
 "nbformat": 4,
 "nbformat_minor": 4
}
