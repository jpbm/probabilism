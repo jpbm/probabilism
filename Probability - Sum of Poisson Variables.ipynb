{
 "cells": [
  {
   "cell_type": "markdown",
   "metadata": {},
   "source": [
    "### Sum of Poisson Random Variables\n",
    "\n",
    "The poisson distribution gives the probability of observing $k$ events within $\\lambda = ct$ time.\n",
    "\n",
    "\n",
    "#### The long way\n",
    "\n",
    "\\begin{equation}\n",
    "p(k) = \\frac{\\lambda^k e^{-\\lambda}}{k!}\n",
    "\\end{equation}\n",
    "\n",
    "The sum of a set of $n$ poisson random variables has probability:\n",
    "\n",
    "\\begin{equation}\n",
    "\\begin{array}{ll}\n",
    "p(s) &= \\sum_{\\sum k_i = s} \\frac{\\lambda^{k_1}...\\lambda^{k_n} e^{-n\\lambda}}{k_1!...k_n!}\\\\\n",
    "&= \\frac{e^{-n\\lambda}}{s!} \\sum_{\\sum k_i = s} \\left(\\begin{array}{c} s \\\\ k_1...k_n\\end{array}\\right)\\lambda^{k_1}...\\lambda^{k_n}\\\\\n",
    "&= \\frac{(n\\lambda)^s e^{-n\\lambda}}{s!}\n",
    "\\end{array}\n",
    "\\end{equation}\n",
    "\n",
    "Where the second step made use of the multinomial expansion.\n",
    "\n",
    "#### The quick way, using moment generating functions\n",
    "\n",
    "For a linear combination of independent random variables $y=\\sum a_i X_i$, the moment generating function is given by: \n",
    "\n",
    "\\begin{equation}\n",
    "M_y(t) = \\prod_i M_i(t) = \\prod_i \\left< e^{X_it} \\right>\n",
    "\\end{equation}\n",
    "\n",
    "In this case, then:\n",
    "\n",
    "\\begin{equation}\n",
    "M_y(t) = \\prod_i \\exp\\left(\\lambda_i (e^t -1) \\right) = \\exp\\left(n\\lambda(e^t-1)\\right)\n",
    "\\end{equation}\n",
    "\n",
    "Which is the moment generating function of a poisson random variable with parameter $n\\lambda$."
   ]
  },
  {
   "cell_type": "code",
   "execution_count": 1,
   "metadata": {},
   "outputs": [],
   "source": [
    "import numpy as np\n",
    "import matplotlib.pyplot as plt\n",
    "\n",
    "\n",
    "n = 5\n",
    "samples = 5000\n",
    "\n",
    "lam = 1\n",
    "\n",
    "X = np.random.poisson(lam=lam,size=[n,samples])\n",
    "Y = np.sum(X,axis=0)\n",
    "\n",
    "def factorial(x):\n",
    "    if x == 0:\n",
    "        return 1\n",
    "    else:\n",
    "        res = 1\n",
    "        for i in range(1,x+1):\n",
    "            res *= i\n",
    "        return res\n",
    "\n",
    "def p_x(x,lam=lam):\n",
    "    return lam**x * np.exp(-lam) / factorial(x)\n",
    "\n",
    "def p_s(x,n,lam=lam):\n",
    "    return p_x(x,lam=n*lam)"
   ]
  },
  {
   "cell_type": "code",
   "execution_count": 2,
   "metadata": {},
   "outputs": [
    {
     "data": {
      "text/plain": [
       "[<matplotlib.lines.Line2D at 0x11bf70390>]"
      ]
     },
     "execution_count": 2,
     "metadata": {},
     "output_type": "execute_result"
    },
    {
     "data": {
      "image/png": "[encoded data removed]",
      "text/plain": [
       "<Figure size 432x288 with 1 Axes>"
      ]
     },
     "metadata": {
      "needs_background": "light"
     },
     "output_type": "display_data"
    }
   ],
   "source": [
    "x = list(range(15))\n",
    "_ = plt.hist(X.flatten(),bins = x,density=True)\n",
    "_ = plt.hist(Y,bins=x,density=True)\n",
    "\n",
    "plt.plot(x,[p_x(i) for i in x])\n",
    "plt.plot(x,[p_s(i,n) for i in x])"
   ]
  }
 ],
 "metadata": {
  "kernelspec": {
   "display_name": "Python 3",
   "language": "python",
   "name": "python3"
  },
  "language_info": {
   "codemirror_mode": {
    "name": "ipython",
    "version": 3
   },
   "file_extension": ".py",
   "mimetype": "text/x-python",
   "name": "python",
   "nbconvert_exporter": "python",
   "pygments_lexer": "ipython3",
   "version": "3.7.7"
  }
 },
 "nbformat": 4,
 "nbformat_minor": 4
}
