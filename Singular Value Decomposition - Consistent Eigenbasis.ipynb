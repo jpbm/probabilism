{
 "cells": [
  {
   "cell_type": "markdown",
   "metadata": {},
   "source": [
    "## Constructing A Consistently Oriented Eigenbasis\n",
    "\t\n",
    "Upon performing SVD, the sign of the basis vectors can be flipped without affecting the validity of the singular value decomposition. That means that if the SVD is performed repeatedly on a slowly evolving system, the derived eigenbasis of the system can abruptly change, from, for example, a left-handed to a right-handed coordinate system. Hence there is a need to find a way to consistently orient the basis of eigenvectors. \n",
    "\n",
    "Heuristic techniques can work by taking the dot product between the singular vectors derived for two separate SVDs, and flipping them whenever the dot product is negative. A more rigorous technique was derived by Damask (2019). Damask's technique relies on constructing the sequence of reflection and rotation operations necessary to transform a constituent basis into the derived eigenbasis. The gradual transformation begins with the singular vector with the largest singular value, because it has the greatest numerical certainty. \n",
    "\n",
    "Once consistently oriented, directional statistics can be applied to analyze the evolution of the eigensystem over different measurements. \n",
    "\n",
    "In general, singular vectors are only labeled by their corresponding singular value (assuming no degeneracy). Rank order changes require attaching an additional label to the eigenvectors.\n",
    "\n",
    "Reference: \n",
    "https://arxiv.org/abs/1912.12983\n",
    "\n",
    "### Testing the Thucyd Package\n",
    "\n",
    "Jay's thucyd package can be used to correct sign flips in eigenbases."
   ]
  },
  {
   "cell_type": "code",
   "execution_count": 3,
   "metadata": {},
   "outputs": [],
   "source": [
    "import numpy as np\n",
    "import matplotlib.pyplot as plt\n",
    "import thucyd"
   ]
  },
  {
   "cell_type": "code",
   "execution_count": 310,
   "metadata": {},
   "outputs": [
    {
     "name": "stdout",
     "output_type": "stream",
     "text": [
      "WOrks.\n"
     ]
    }
   ],
   "source": [
    "### Square Matrices -- doesn't work for complex eigenvalues / eigenvectors \n",
    "\n",
    "def check(V,E):\n",
    "    return np.matmul(np.matmul(V,E),V.T)\n",
    "\n",
    "for i in range(100):\n",
    "    N = 20\n",
    "    M = np.random.randn(N,N)\n",
    "    E,V = np.linalg.eig(M)\n",
    "\n",
    "    # get real\n",
    "    E = np.diag(E.real)\n",
    "    V = V.real\n",
    "    M = np.matmul(np.matmul(V,E),V.T)\n",
    "\n",
    "    # orient the original matrix V\n",
    "    Vor , Eor , signs , theta_matrix , sort_indices = thucyd.eigen.orient_eigenvectors(V,E)\n",
    "\n",
    "\n",
    "    assert np.allclose(M,check(Vor,Eor))\n",
    "    \n",
    "print(\"WOrks.\")"
   ]
  },
  {
   "cell_type": "code",
   "execution_count": 311,
   "metadata": {},
   "outputs": [
    {
     "name": "stdout",
     "output_type": "stream",
     "text": [
      "Works.\n"
     ]
    }
   ],
   "source": [
    "### SVD -- SVD always returns real eigenvalues bc A^TA is hermitian and real eigenvectors if A is real\n",
    "\n",
    "### Flipping must be symmetric\n",
    "\n",
    "def check_svd(U,S,V):\n",
    "    return np.matmul(np.matmul(U,S),V)\n",
    "\n",
    "for i in range(100):\n",
    "    N = 3\n",
    "    M = np.random.randn(N,N)\n",
    "    U,S,Vh = np.linalg.svd(M,full_matrices=False)\n",
    "    S = np.diag(S)\n",
    "\n",
    "    assert np.all(np.isreal(S))\n",
    "    assert np.all(S >= 0)\n",
    "    assert np.all(np.isreal(U))\n",
    "    assert np.all(np.isreal(V))\n",
    "    \n",
    "    Vor , Eor , signs , theta_matrix , sort_indices = thucyd.eigen.orient_eigenvectors(Vh.T,S)\n",
    "    Vorh = Vor.T\n",
    "    Uor = np.matmul(U,np.diag(signs))\n",
    "    \n",
    "    assert np.allclose(check_svd(U,S,Vh),M)\n",
    "    assert np.allclose(M,check_svd(Uor,S,Vorh))\n",
    "    \n",
    "print(\"Works.\")"
   ]
  },
  {
   "cell_type": "code",
   "execution_count": null,
   "metadata": {},
   "outputs": [],
   "source": [
    "\"\"\" \n",
    "Tracking eigenvectors of an evolving system.\n",
    "\"\"\"\n",
    "\n"
   ]
  }
 ],
 "metadata": {
  "kernelspec": {
   "display_name": "Python 3",
   "language": "python",
   "name": "python3"
  },
  "language_info": {
   "codemirror_mode": {
    "name": "ipython",
    "version": 3
   },
   "file_extension": ".py",
   "mimetype": "text/x-python",
   "name": "python",
   "nbconvert_exporter": "python",
   "pygments_lexer": "ipython3",
   "version": "3.7.7"
  }
 },
 "nbformat": 4,
 "nbformat_minor": 4
}
