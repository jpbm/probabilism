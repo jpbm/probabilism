{
 "cells": [
  {
   "cell_type": "markdown",
   "metadata": {},
   "source": [
    "# Sample Variance and Variance of Sample Means\n",
    "\n",
    "Two expressions float around that allow the inference of the population variance based on samples that are drawn. In one case, $\\sigma_p^2/(n-1)$, and in the other case $\\sigma_p^2/n$. Especially during times of prolonged peace, that can already be confusing.\n",
    "\n",
    "They're actually both correct, and they both have to do with drawing samples, and they're both frequently called $\\sigma_s$. The thing is that the context is two very different calculations.\n",
    "\n",
    "## Sample Means\n",
    "A collection of $N$ samples are drawn from a population. The samples each have size $n$. When the mean of the each of the $N$ samples is calculated, it turns out that the $N$ sample means have a distribution that has mean equal to the population mean, and variance equal to $\\sigma_p^2/n$. \n",
    "\n",
    "In other words, if you have a bunch of samples, you can infer the population variance by looking at the distribution of the means of the samples you took.\n",
    "\n",
    "## Sample Variance\n",
    "A single sample of size $n$ is drawn from a population. The variance of the $n$ members of the sample is $\\sigma_p^2/(n-1)$."
   ]
  },
  {
   "cell_type": "code",
   "execution_count": 15,
   "metadata": {},
   "outputs": [
    {
     "name": "stdout",
     "output_type": "stream",
     "text": [
      "True Population Variance:\n",
      "1.000\n",
      "\n",
      "Estimated via intra-sample variance:\n",
      " 1.012 (+/- 0.714)\n",
      "\n",
      "Estimated via variance of sample means:\n",
      " 0.979\n",
      "\n"
     ]
    }
   ],
   "source": [
    "import numpy as np\n",
    "\n",
    "def var_1(sample):\n",
    "    \"\"\"\n",
    "    population variance estimated based on variance within individual samples.\n",
    "    \"\"\"\n",
    "    mean = np.mean(sample)\n",
    "    n = len(sample)\n",
    "    population_variance = np.sum([(i-mean)**2 for i in sample])/(n-1)\n",
    "    \n",
    "    return population_variance\n",
    "\n",
    "def var_2(samples):\n",
    "    \"\"\"\n",
    "    population variance estimated based on the variance of the means of a collection of samples.\n",
    "    \"\"\"\n",
    "    n = len(samples[0]) \n",
    "    means = [np.mean(sample) for sample in samples]\n",
    "    population_mean = np.mean(means)\n",
    "    population_variance = n*np.std(means)**2\n",
    "    \n",
    "    return population_variance\n",
    "\n",
    "\n",
    "N = 5\n",
    "var = 1\n",
    "samples = [np.sqrt(var)*np.random.randn(N) for i in range(10000)]\n",
    "\n",
    "# via intra-sample variance\n",
    "pvar1 = np.mean([var_1(sample) for sample in samples])\n",
    "pvar1_std = np.std([var_1(sample) for sample in samples])\n",
    "\n",
    "# via sample means\n",
    "pvar2 = var_2(samples)\n",
    "\n",
    "print(\"True Population Variance:\\n%1.3f\\n\" % var)\n",
    "\n",
    "print(\"Estimated via intra-sample variance:\\n %1.3f (+/- %1.3f)\\n\" % (pvar1,pvar1_std))\n",
    "\n",
    "print(\"Estimated via variance of sample means:\\n %1.3f\\n\" % pvar2)"
   ]
  }
 ],
 "metadata": {
  "kernelspec": {
   "display_name": "Python 3",
   "language": "python",
   "name": "python3"
  },
  "language_info": {
   "codemirror_mode": {
    "name": "ipython",
    "version": 3
   },
   "file_extension": ".py",
   "mimetype": "text/x-python",
   "name": "python",
   "nbconvert_exporter": "python",
   "pygments_lexer": "ipython3",
   "version": "3.7.7"
  }
 },
 "nbformat": 4,
 "nbformat_minor": 4
}
