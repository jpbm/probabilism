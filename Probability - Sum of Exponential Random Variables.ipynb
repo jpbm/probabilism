{
 "cells": [
  {
   "cell_type": "markdown",
   "metadata": {},
   "source": [
    "### Sum of Exponentially Distributed Random Variables\n",
    "\n",
    "Let $\\{x_i\\}$ be a collection of $n$ independent and identically distributed random variables with exponential distribution:\n",
    "\n",
    "\\begin{equation}\n",
    "X_i \\sim \\lambda e^{-\\lambda x}\\Theta(x)\n",
    "\\end{equation}\n",
    "\n",
    "Where $\\Theta(\\cdot)$ is the Heaviside unit step function. Define a new random variable, $S$, where $S = \\sum^n_i X_i$.\n",
    "\n",
    "This can be done by writing down the joint probability distribution $p(S,X_1,...,X_n)$ using the Dirac Delta function and then obtain $p(S)$ through marginalization. The first of the $n$ integrals is easy because of the Delta function:\n",
    "\n",
    "\\begin{equation}\n",
    "\\begin{array}{ll}\n",
    "p(S) &= \\int dX^n \\ \\underbrace{\\prod_i^n \\left[ \\lambda e^{-\\lambda X_i}\\Theta(X_i) \\right]}_{p(X_1,...,X_n)}\\ \\underbrace{\\delta(S-\\sum^n_i X_i)}_{P(S|X_1,...,X_n)}\\\\\n",
    "&= \\lambda^n \\int dX^{n-1} e^{-\\lambda (\\sum_i^{n-1}X_i)} e^{-\\lambda(s-\\sum_i^{n-1}X_i)}\\left[\\prod_i^{n-1}\\Theta(X_i)\\right]\\Theta(s-\\sum_i^{n-1}X_i)\n",
    "\\end{array}\n",
    "\\end{equation}\n",
    "\n",
    "Note that the sums in the exponential will cancel in a way that allows it to be removed from the integral. What remains to solve is an integral over a product of Heaviside functions.\n",
    "\n",
    "\\begin{equation}\n",
    "\\begin{array}{ll}\n",
    "p(S) &= \\lambda^n e^{-\\lambda s} \\int \\mathrm{d}X^{n-1} \\left[\\prod_i^{n-1}\\Theta(X_i)\\right]\\Theta(s-\\sum_i^{n-1}X_i)\n",
    "\\end{array}\n",
    "\\end{equation}\n",
    "\n",
    "The integral will be a product of the lengths of $n-1$ coordinate intervals where the Heaviside functions have support.\n",
    "\n",
    "\\begin{equation}\n",
    "\\begin{array}{ll}\n",
    "&\\ \\int \\mathrm{d}X^{n-1} \\underbrace{\\left[\\prod_i^{n-1}\\Theta(X_i)\\right]\\Theta(s-\\sum_i^{n-1}X_i)}_{I_{n-1}}\\\\\n",
    "&= \\int\\mathrm{d}X^{n-2} \\left[\\left[\\prod_i^{n-2}\\Theta(X_i)\\right]X_{n-1}\\right]_{(0,\\infty)\\cap(-\\infty,s-\\sum_i^{n-2}X_i)}\\\\\n",
    "&= \\int\\mathrm{d}X^{n-2} \\underbrace{\\left[\\prod_i^{n-2}\\Theta(X_i)\\right]\\Theta(s-\\sum_i^{n-2}X_i)\\left(s-\\sum_i^{n-2}X_i\\right)}_{I_{n-2}}\\\\\n",
    "&= \\int\\mathrm{d}X^{n-3} \\underbrace{\\left[\\prod_i^{n-3}\\Theta(X_i)\\right]\\Theta(s-\\sum_i^{n-3}X_i)\\frac{1}{2}\\left(s-\\sum_i^{n-3}X_i\\right)^2}_{I_{n-3}}\\\\\n",
    "&\\vdots\\\\\n",
    "&= \\int\\mathrm{d}X^{n-m} \\underbrace{\\left[\\prod_i^{n-m}\\Theta(X_i)\\right]\\Theta(s-\\sum_i^{n-m}X_i)\\frac{1}{(m-1)!}\\left(s-\\sum_i^{n-m}X_i\\right)^{m-1}}_{I_{n-m}}\\\\\n",
    "&\\vdots\\\\\n",
    "&=\\frac{1}{(n-1)!}s^{n-1}\\Theta(s)\n",
    "\\end{array}\n",
    "\\end{equation}\n",
    "\n",
    "Where, in the third row, the length of the interval $(0,\\infty)\\cap(-\\infty,s-\\sum_i^{n-2}X_i)$ is expressed as $\\Theta(s-\\sum_i^{n-2}X_i)\\left(s-\\sum_i^{n-2}X_i\\right)$.\n",
    "\n",
    "The expression for the probability of seeing $n$ independent and identically distributed, exponentially distribued random variables with parameter $\\lambda$, add up to a sum $S$, is then:\n",
    "\n",
    "\\begin{equation}\n",
    "p(S) = \\frac{s^{n-1}\\lambda^n}{(n-1)!} e^{-\\lambda s}\\Theta(s)\n",
    "\\end{equation}\n",
    "\n",
    "For $n=1$, this reduces to the expression of a single exponentially distributed random variable."
   ]
  },
  {
   "cell_type": "code",
   "execution_count": 26,
   "metadata": {},
   "outputs": [
    {
     "data": {
      "image/png": "[encoded data removed]",
      "text/plain": [
       "<Figure size 864x360 with 1 Axes>"
      ]
     },
     "metadata": {
      "needs_background": "light"
     },
     "output_type": "display_data"
    }
   ],
   "source": [
    "import numpy as np\n",
    "import matplotlib.pyplot as plt\n",
    "\n",
    "\n",
    "def factorial(x):\n",
    "    if x == 0:\n",
    "        return 1\n",
    "    else:\n",
    "        res = 1\n",
    "        for i in range(1,x+1):\n",
    "            res *= i\n",
    "        return res\n",
    "    \n",
    "\n",
    "def p_S(s,n):\n",
    "    \"\"\"\n",
    "    Analytical solution for the sum of n exponentially distributed random variables\n",
    "    \"\"\"\n",
    "    if s < 0:\n",
    "        return 0\n",
    "    else:\n",
    "        return (s**(n-1)*lam**n*np.exp(-lam*s))/factorial(n-1)\n",
    "    \n",
    "    \n",
    "lam = 1\n",
    "ss = np.linspace(0,50,100)\n",
    "nn = [1,5,10,20]\n",
    "\n",
    "\"\"\"\n",
    "Simulated data\n",
    "\"\"\"\n",
    "N = 1000\n",
    "data = np.random.exponential(scale=lam,size=(max(nn),N))\n",
    "\n",
    "\n",
    "\"\"\"\n",
    "Plotting\n",
    "\"\"\"\n",
    "plt.figure(figsize=(12,5))\n",
    "for n in nn:\n",
    "    x = [p_S(s,n) for s in ss]\n",
    "    plt.plot(ss,x,linewidth=3)\n",
    "    res = np.sum(data[:n],axis=0)\n",
    "    plt.hist(res,density=True,bins=ss)\n",
    "    plt.text(1.2*n,max(x),'n='+str(n),Fontsize=12)\n",
    "    \n",
    "_ = plt.title('Simulated vs. Analytical')"
   ]
  }
 ],
 "metadata": {
  "kernelspec": {
   "display_name": "Python 3",
   "language": "python",
   "name": "python3"
  },
  "language_info": {
   "codemirror_mode": {
    "name": "ipython",
    "version": 3
   },
   "file_extension": ".py",
   "mimetype": "text/x-python",
   "name": "python",
   "nbconvert_exporter": "python",
   "pygments_lexer": "ipython3",
   "version": "3.7.7"
  }
 },
 "nbformat": 4,
 "nbformat_minor": 4
}
