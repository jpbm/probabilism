{
 "cells": [
  {
   "cell_type": "markdown",
   "metadata": {},
   "source": [
    "# Bose Einstein Coefficients\n",
    "\n",
    "A collection of $n$ objects that can have one of $k$ different classes are selected. The classes have equal probability. How many ways are there to select the objects? \n",
    "\n",
    "Alternatively: how many ways are there to partition $n$ objects into $k$ buckets? \n",
    "\n",
    "If $n_i$ is the number of objects in bucket $i$, then $\\sum_i n_i = n$.\n",
    "\n",
    "## Stars and Bars\n",
    "\n",
    "This is a neat way to approach counting problems.\n",
    "\n",
    "Dividing objects into $k$ classes requires $k-1$ separators. The division can be visualized of a sequence of $n+k-1$ objects and dividers.\n",
    "\n",
    "Consider 10 objects divided over 4 classes. \n",
    "\n",
    "That makes 10 objects and 3 dividers that are allocated to $n+k-1$ slots:\n",
    "\n",
    "``[ , , , , , , , , , , , , ]``\n",
    "\n",
    "For example:\n",
    "\n",
    "``[|,* ,* ,* ,|,* ,| ,* ,* ,* ,* ,* ,* ]``\n",
    "\n",
    "Corresponds to an allocation of $\\{0,3,1,6\\}$ across the 4 classes. \n",
    "\n",
    "The amount of ways to distribute $n$ objects over $n+k-1$ is:\n",
    "\n",
    "\\begin{equation}\n",
    "\\left(\\begin{array}{c}n+k-1\\\\n\\end{array}\\right)\n",
    "\\end{equation}\n",
    "\n",
    "Which is the result."
   ]
  }
 ],
 "metadata": {
  "kernelspec": {
   "display_name": "Python 3",
   "language": "python",
   "name": "python3"
  },
  "language_info": {
   "codemirror_mode": {
    "name": "ipython",
    "version": 3
   },
   "file_extension": ".py",
   "mimetype": "text/x-python",
   "name": "python",
   "nbconvert_exporter": "python",
   "pygments_lexer": "ipython3",
   "version": "3.7.7"
  }
 },
 "nbformat": 4,
 "nbformat_minor": 4
}
