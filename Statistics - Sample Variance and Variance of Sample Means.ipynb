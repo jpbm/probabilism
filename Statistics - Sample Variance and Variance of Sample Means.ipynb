{
 "cells": [
  {
   "cell_type": "markdown",
   "metadata": {},
   "source": [
    "# Sample Variance and Variance of Sample Means\n",
    "\n",
    "Let $\\mu_p$ be the population mean and $\\sigma_p^2$ the population variance. \n",
    "\n",
    "If you draw samples of size $n$, then the mean of those samples will have distribution with mean $\\mu_p$ and variance $\\sigma^2_p/N$. \n",
    "\n",
    "If you one sample of size $n$, then the variance within that sample will be $s^2 =\\sum_{i=1}^{n} |x_i - \\mu_s|^2/(n-1)$ where $\\mu_s$ is the sample mean $\\mu_s = \\sum_{i=1}^{n} x_i/n$.\n",
    "\n",
    "## Example: Data Matrix, Covariance Matrix\n",
    "Say you have a data matrix with $n$ samples and $p$ features, $\\mathbf{X}\\in\\mathbb{R}^{n \\times p}$. \n",
    "\n",
    "You add all the rows and calculate the mean of $\\mathbf{X}$. How far might the mean be away from the population mean? The standard error is $\\sigma_p/\\sqrt{n}$.  \n",
    "\n",
    "You want to know what the covariance of the data is, so you look at the covariance across the columns within the sample. Hence, the covariance matrix is $\\frac{\\mathbf{X}^T\\mathbf{X}}{n-1}$."
   ]
  },
  {
   "cell_type": "code",
   "execution_count": 3,
   "metadata": {},
   "outputs": [
    {
     "name": "stdout",
     "output_type": "stream",
     "text": [
      "True Population Variance:\n",
      "1.000\n",
      "\n",
      "Estimated via intra-sample variance:\n",
      " 1.000 (+/- 0.708)\n",
      "\n",
      "Estimated via variance of sample means:\n",
      " 1.002\n",
      "\n"
     ]
    }
   ],
   "source": [
    "import numpy as np\n",
    "\n",
    "def var_1(sample):\n",
    "    \"\"\"\n",
    "    population variance estimated based on variance within individual samples.\n",
    "    \"\"\"\n",
    "    mean = np.mean(sample)\n",
    "    n = len(sample)\n",
    "    population_variance = np.sum([(i-mean)**2 for i in sample])/(n-1)\n",
    "    \n",
    "    return population_variance\n",
    "\n",
    "def var_2(samples):\n",
    "    \"\"\"\n",
    "    population variance estimated based on the variance of the means of a collection of samples.\n",
    "    \"\"\"\n",
    "    n = len(samples[0]) \n",
    "    means = [np.mean(sample) for sample in samples]\n",
    "    population_mean = np.mean(means)\n",
    "    population_variance = n*np.std(means)**2\n",
    "    \n",
    "    return population_variance\n",
    "\n",
    "\n",
    "N = 5\n",
    "var = 1\n",
    "samples = [np.sqrt(var)*np.random.randn(N) for i in range(500000)]\n",
    "\n",
    "# via intra-sample variance\n",
    "pvar1 = np.mean([var_1(sample) for sample in samples])\n",
    "pvar1_std = np.std([var_1(sample) for sample in samples])\n",
    "\n",
    "# via sample means\n",
    "pvar2 = var_2(samples)\n",
    "\n",
    "print(\"True Population Variance:\\n%1.3f\\n\" % var)\n",
    "\n",
    "print(\"Estimated via intra-sample variance:\\n %1.3f (+/- %1.3f)\\n\" % (pvar1,pvar1_std))\n",
    "\n",
    "print(\"Estimated via variance of sample means:\\n %1.3f\\n\" % pvar2)"
   ]
  }
 ],
 "metadata": {
  "kernelspec": {
   "display_name": "Python 3",
   "language": "python",
   "name": "python3"
  },
  "language_info": {
   "codemirror_mode": {
    "name": "ipython",
    "version": 3
   },
   "file_extension": ".py",
   "mimetype": "text/x-python",
   "name": "python",
   "nbconvert_exporter": "python",
   "pygments_lexer": "ipython3",
   "version": "3.7.7"
  }
 },
 "nbformat": 4,
 "nbformat_minor": 4
}
