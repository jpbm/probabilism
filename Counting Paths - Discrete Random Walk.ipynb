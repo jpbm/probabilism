{
 "cells": [
  {
   "cell_type": "markdown",
   "metadata": {},
   "source": [
    "# Discrete Random Walk\n",
    "\n",
    "Consider a discrete random walk.\n",
    "\n",
    "Let $X_t = X_{t+1} + \\epsilon_t$, with $p(\\epsilon_t = 1) = 0.5$ and $p(\\epsilon_t = -1) = 0.5$ be the stepwise random walk. All paths are equally likely, so that the probability of winding up at a certain point can be calculated by looking at the fractions of all paths that lead to that point.\n",
    "\n",
    "Consider the grid. The possible states that the walk can reach lie on a rotated rectangular grid. Use the coordinates:\n",
    "\n",
    "\\begin{equation}\n",
    "X_t = y-x\\\\\n",
    "t = y+x\n",
    "\\end{equation}\n",
    "\n",
    "From which follows:\n",
    "\\begin{equation}\n",
    "x = \\frac{t-X_t}{2}\\\\\n",
    "y = \\frac{t+X_t}{2}\n",
    "\\end{equation}\n",
    "\n",
    "The total amount of paths that lead from $(0,0)$ to $(t,X_t)$ are then given by:\n",
    "\n",
    "\\begin{equation}\n",
    "n(t,X_t) = \\left(\\begin{array}{c}x+y\\\\x\\end{array}\\right) = \\left(\\begin{array}{c}x+y\\\\y\\end{array}\\right) =  \\left(\\begin{array}{c}t\\\\\\frac{t+X_t}{2}\\end{array}\\right) = \\left(\\begin{array}{c}t\\\\\\frac{t-X_t}{2}\\end{array}\\right)\n",
    "\\end{equation}\n",
    "\n",
    "If $\\frac{t\\pm X_t}{2}$ are integer and 0 otherwise. \n",
    "\n",
    "\n",
    "The probability distribution of $P(X_t = s)$ could be calculated by calculating the convolution of the probability distributions for each of the $\\epsilon_t$ for $t \\in (1,t)$."
   ]
  },
  {
   "cell_type": "code",
   "execution_count": null,
   "metadata": {},
   "outputs": [],
   "source": []
  }
 ],
 "metadata": {
  "kernelspec": {
   "display_name": "Python 3",
   "language": "python",
   "name": "python3"
  },
  "language_info": {
   "codemirror_mode": {
    "name": "ipython",
    "version": 3
   },
   "file_extension": ".py",
   "mimetype": "text/x-python",
   "name": "python",
   "nbconvert_exporter": "python",
   "pygments_lexer": "ipython3",
   "version": "3.7.7"
  }
 },
 "nbformat": 4,
 "nbformat_minor": 4
}
