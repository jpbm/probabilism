{
 "cells": [
  {
   "cell_type": "markdown",
   "metadata": {},
   "source": [
    "### Next lexicographical permutation of an array.\n",
    "\n",
    "    1. Find longest decreasing suffix.\n",
    "    2. Find pivot: element to the left of suffix\n",
    "    3. Find successor: smallest element of suffix larger than the pivot\n",
    "    4. Switch pivot and successor\n",
    "    5. Reverse suffix\n",
    "    6. If longest suffix is the full string, it's already the highest permutation"
   ]
  },
  {
   "cell_type": "code",
   "execution_count": 65,
   "metadata": {},
   "outputs": [
    {
     "name": "stdout",
     "output_type": "stream",
     "text": [
      "ACCB\n",
      "BACC\n",
      "BCAC\n",
      "BCCA\n",
      "CABC\n",
      "CACB\n",
      "CBAC\n",
      "CBCA\n",
      "CCAB\n",
      "CCBA\n",
      "[next_lexicographical_permutation] Maximum permutation reached.\n"
     ]
    }
   ],
   "source": [
    "def next_lexicographical_permutation(w):\n",
    "    \n",
    "    \n",
    "    # 0. if w is a string, convert to (mutable) list\n",
    "    type_w = type(w)\n",
    "    if type_w == str:\n",
    "        w = list(w)\n",
    "    else:\n",
    "        pass\n",
    "    \n",
    "    \n",
    "    # 1. find longest decreasing suffix\n",
    "    i = len(w)-1\n",
    "    while i > 0 and w[i-1] >= w[i]:\n",
    "        i -= 1\n",
    "        \n",
    "            \n",
    "    # 2. check if already the max permutation, else find pivot\n",
    "    if i == 0:\n",
    "        print(\"[next_lexicographical_permutation] Maximum permutation reached.\")\n",
    "        return False\n",
    "    else:\n",
    "        pivot = w[i-1]\n",
    "        \n",
    "        \n",
    "    # 3. find successor\n",
    "    j = len(w)-1\n",
    "    while w[j] <= pivot:\n",
    "        j -= 1\n",
    "    successor = w[j]\n",
    "            \n",
    "        \n",
    "    # 4. switch pivot and successor\n",
    "    w[j] = pivot\n",
    "    w[i-1] = successor\n",
    "    \n",
    "    \n",
    "    # 5. reverse suffix\n",
    "    w[i:] = reversed(w[i:])\n",
    "    \n",
    "    \n",
    "    if type_w == str:\n",
    "        return ''.join(w)\n",
    "    else:\n",
    "        return w\n",
    "\n",
    "\n",
    "    \n",
    "X = 'ACCB'\n",
    "\n",
    "w = next_lexicographical_permutation(X)\n",
    "print(X)\n",
    "while w:\n",
    "    print(w)\n",
    "    w = next_lexicographical_permutation(w)"
   ]
  }
 ],
 "metadata": {
  "kernelspec": {
   "display_name": "Python 3",
   "language": "python",
   "name": "python3"
  },
  "language_info": {
   "codemirror_mode": {
    "name": "ipython",
    "version": 3
   },
   "file_extension": ".py",
   "mimetype": "text/x-python",
   "name": "python",
   "nbconvert_exporter": "python",
   "pygments_lexer": "ipython3",
   "version": "3.7.7"
  }
 },
 "nbformat": 4,
 "nbformat_minor": 4
}
