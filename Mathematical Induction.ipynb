{
 "cells": [
  {
   "cell_type": "markdown",
   "metadata": {},
   "source": [
    "# Mathematical Induction\n",
    "\n",
    "The simple case of 'weak' induction.\n",
    "\n",
    "1. Prove the Base Case k=b\n",
    "2. Prove that, assuming it holds for some case $k$, it also holds for $k+1$\n",
    "\n",
    "\n",
    "\n",
    "- It holds for $k=b$. (step 1)\n",
    "- If it holds for $k=b$ then it should hold for $k=b+1$. (step 2)\n",
    "\n",
    "- Therefore, it holds for $k=b+1$. (step 1 + step 2)\n",
    "\n",
    "- If it holds for $b+1$ then it holds for $b+2$. (step 2)\n",
    "\n",
    "- If it holds for $b+2$ then it holds for $b+3$. (step 2)\n",
    ".\n",
    ".\n",
    ".\n",
    "\n",
    "And so on.\n",
    "\n",
    "\n",
    "### Example:\n",
    "\n",
    "The proposition is that:\n",
    "\n",
    "\\begin{equation}\n",
    "P(n) = \\sum_{i=0}^{n-1} b^i = \\frac{1-b^n}{1-b}\n",
    "\\end{equation}\n",
    "\n",
    "#### Base Case: Prove that it Holds for n = 1\n",
    "\n",
    "\\begin{equation}\n",
    "P(1) = \\sum_{i=0}^{1-1} b^i = b^0 = \\frac{1-b^1}{1-b} = 1\n",
    "\\end{equation}\n",
    "\n",
    "This proves the base case.\n",
    "\n",
    "#### Step Case: Prove that if it holds for n=k then it also holds for n=k+1\n",
    "\n",
    "Assume the following to be true:\n",
    "\\begin{equation}\n",
    "P(n) = \\frac{1-b^n}{1-b}\n",
    "\\end{equation}\n",
    "\n",
    "\\begin{equation}\n",
    "P(k+1) = P(k) + b^{k} =  \\frac{1-b^k}{1-b} + \\frac{(1-b)b^{k}}{1-b} = \\frac{1-b^k+b^k+b^{k+1}}{1-b} = \\frac{1-b^{k+1}}{1-b}\n",
    "\\end{equation}\n",
    "\n",
    "This proves the step case.\n",
    "\n",
    "\n"
   ]
  }
 ],
 "metadata": {
  "kernelspec": {
   "display_name": "Python 3",
   "language": "python",
   "name": "python3"
  },
  "language_info": {
   "codemirror_mode": {
    "name": "ipython",
    "version": 3
   },
   "file_extension": ".py",
   "mimetype": "text/x-python",
   "name": "python",
   "nbconvert_exporter": "python",
   "pygments_lexer": "ipython3",
   "version": "3.7.7"
  }
 },
 "nbformat": 4,
 "nbformat_minor": 4
}
