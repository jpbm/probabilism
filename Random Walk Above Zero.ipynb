{
 "cells": [
  {
   "cell_type": "markdown",
   "metadata": {},
   "source": [
    "# Random Walk Above Zero\n",
    "\n",
    "Consider a stepwise random walk. What is the probability that the walk never goes below zero? \n",
    "\n",
    "Let $X_t = X_{t+1} + \\epsilon$, with $p(\\epsilon = 1) = 0.5$ and $p(\\epsilon = -1) = 0.5$ be the stepwise random walk.\n",
    "\n",
    "Consider the grid. The possible states that the walk can reach lie on a rotated rectangular grid. Use the coordinages:\n",
    "\n",
    "\\begin{equation}\n",
    "X_t = y-x\\\\\n",
    "t = \\frac{y+x}{2}\n",
    "\\end{equation}\n",
    "\n",
    "From which follows:\n",
    "\\begin{equation}\n",
    "x = \\frac{2t-X_t}{2}\\\\\n",
    "y = \\frac{2t+X_t}{2}\n",
    "\\end{equation}\n",
    "\n",
    "The amount of paths that lead from $(0,0)$ to $(t,X_t)$ are then given by:\n",
    "\n",
    "\\begin{equation}\n",
    "n(t,X_t) = \\left(\\begin{array}{c}x+y\\\\x\\end{array}\\right) = \\left(\\begin{array}{c}x+y\\\\y\\end{array}\\right) =  \\left(\\begin{array}{c}2t\\\\\\frac{2t+s}{2}\\end{array}\\right) = \\left(\\begin{array}{c}2t\\\\\\frac{2t-s}{2}\\end{array}\\right)\n",
    "\\end{equation}"
   ]
  },
  {
   "cell_type": "code",
   "execution_count": null,
   "metadata": {},
   "outputs": [],
   "source": []
  }
 ],
 "metadata": {
  "kernelspec": {
   "display_name": "Python 3",
   "language": "python",
   "name": "python3"
  },
  "language_info": {
   "codemirror_mode": {
    "name": "ipython",
    "version": 3
   },
   "file_extension": ".py",
   "mimetype": "text/x-python",
   "name": "python",
   "nbconvert_exporter": "python",
   "pygments_lexer": "ipython3",
   "version": "3.7.7"
  }
 },
 "nbformat": 4,
 "nbformat_minor": 4
}
